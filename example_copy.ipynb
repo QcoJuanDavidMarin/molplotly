{
 "cells": [
  {
   "cell_type": "markdown",
   "metadata": {},
   "source": [
    "# Imports and Data Loading"
   ]
  },
  {
   "cell_type": "markdown",
   "metadata": {},
   "source": [
    "Import pandas for data manipulation, plotly for plotting, and molplot for visualising structures!"
   ]
  },
  {
   "cell_type": "code",
   "execution_count": null,
   "metadata": {},
   "outputs": [],
   "source": [
    "import pandas as pd\n",
    "import plotly.express as px\n",
    "\n",
    "import molplotly\n"
   ]
  },
  {
   "cell_type": "markdown",
   "metadata": {},
   "source": [
    "Let's load the ESOL dataset from [ESOL: Estimating Aqueous Solubility Directly from Molecular Structure](https://doi.org/10.1021/ci034243x) - helpfully hosted by the [deepchem](https://github.com/deepchem/deepchem) team but also included as `example.csv` in the repo."
   ]
  },
  {
   "cell_type": "code",
   "execution_count": null,
   "metadata": {},
   "outputs": [],
   "source": [
    "# df_esol = pd.read_csv('example.csv')\n",
    "df_esol = pd.read_csv(\n",
    "    'https://raw.githubusercontent.com/deepchem/deepchem/master/datasets/delaney-processed.csv')\n",
    "df_esol['y_pred'] = df_esol['ESOL predicted log solubility in mols per litre']\n",
    "df_esol['y_true'] = df_esol['measured log solubility in mols per litre']\n"
   ]
  },
  {
   "cell_type": "code",
   "execution_count": null,
   "metadata": {},
   "outputs": [],
   "source": [
    "# from io import BytesIO\n",
    "# import os\n",
    "# import base64\n",
    "# import textwrap\n",
    "\n",
    "# import numpy as np\n",
    "# from rdkit import Chem\n",
    "# from rdkit.Chem.Draw import rdMolDraw2D\n",
    "\n",
    "# from jupyter_dash import JupyterDash\n",
    "\n",
    "# import plotly.express as px\n",
    "# from dash import dcc, html, Input, Output, no_update\n",
    "\n",
    "# from html.parser import HTMLParser\n",
    "# import copy\n",
    "# from plotly.graph_objects import Figure\n",
    "\n",
    "# import requests\n",
    "\n",
    "# def test_add(\n",
    "#     fig,\n",
    "#     smiles_col=\"SMILES\",\n",
    "# ):\n",
    "#     \"\"\"\n",
    "#     \"\"\"\n",
    "#     if isinstance(smiles_col, str):\n",
    "#         smiles_col = [smiles_col]\n",
    "\n",
    "#     if len(smiles_col) > 1:\n",
    "#         menu = dcc.Dropdown(\n",
    "#             options=smiles_col, value=smiles_col[0], multi=True, id=\"smiles-menu\"\n",
    "#         )\n",
    "#         slider = dcc.Slider(\n",
    "#             min=0,\n",
    "#             max=len(smiles_col) - 1,\n",
    "#             step=1,\n",
    "#             marks={i: smiles_col[i] for i in range(len(smiles_col))},\n",
    "#             value=0,\n",
    "#             id=\"smiles-slider\",\n",
    "#         )\n",
    "#     else:\n",
    "#         menu = dcc.Store(id=\"smiles-slider\", data=0)\n",
    "#         slider = dcc.Store(id=\"smiles-slider\", data=0)\n",
    "\n",
    "#     fig.update_traces(hoverinfo=\"none\", hovertemplate=None)\n",
    "#     app = JupyterDash(__name__)\n",
    "#     app.layout = html.Div(\n",
    "#         [\n",
    "#             html.Div([menu]),\n",
    "#             # dcc.Graph(id=\"graph-basic-2\", figure=fig, clear_on_unhover=True),\n",
    "#             # dcc.Tooltip(\n",
    "#             #     id=\"graph-tooltip\", background_color=f\"rgba(255,255,255,0.5)\"\n",
    "#             # ),\n",
    "#             # slider,\n",
    "#             # menu,\n",
    "#         ]\n",
    "#     )\n",
    "\n",
    "\n",
    "#     return app\n"
   ]
  },
  {
   "cell_type": "markdown",
   "metadata": {},
   "source": [
    "Let's make a scatter plot comparing the measured vs predicted solubilities using `molplotly`"
   ]
  },
  {
   "cell_type": "code",
   "execution_count": null,
   "metadata": {},
   "outputs": [],
   "source": [
    "# from dash import Dash, dcc, html, Input, Output\n",
    "\n",
    "# app = JupyterDash(__name__)\n",
    "# app.layout = html.Div([\n",
    "#                 dcc.Dropdown(options=[\n",
    "#                 {\"label\": \"New York City\", \"value\": \"NYC\"},\n",
    "#                 {\"label\": \"Montréal\", \"value\": \"MTL\"},\n",
    "#                 {\"label\": \"San Francisco\", \"value\": \"SF\"},\n",
    "#                 ],\n",
    "#                  value='NYC', \n",
    "#                  id='demo-dropdown'),\n",
    "#                  html.Div(id='dd-output-container')\n",
    "# ])\n",
    "\n",
    "\n",
    "# @app.callback(\n",
    "#     Output('dd-output-container', 'children'),\n",
    "#     Input('demo-dropdown', 'value')\n",
    "# )\n",
    "# def update_output(value):\n",
    "#     return f'You have selected {value}'\n",
    "\n",
    "\n",
    "# app.run_server(mode='inline', port=8002, debug=True)"
   ]
  },
  {
   "cell_type": "code",
   "execution_count": null,
   "metadata": {},
   "outputs": [],
   "source": [
    "df_esol['delY'] = df_esol[\"y_pred\"] - df_esol[\"y_true\"]\n",
    "df_esol['test'] = 'CO'\n",
    "fig_scatter = px.scatter(df_esol,\n",
    "                         x=\"y_true\",\n",
    "                         y=\"y_pred\",\n",
    "                         color='delY',\n",
    "                         title='ESOL Regression (with add_molecules!)',\n",
    "                         labels={'y_pred': 'Predicted Solubility',\n",
    "                                 'y_true': 'Measured Solubility',\n",
    "                                 'delY': 'ΔY'},\n",
    "                         width=1200,\n",
    "                         height=800)\n",
    "\n",
    "# This adds a dashed line for what a perfect model _should_ predict\n",
    "y = df_esol[\"y_true\"].values\n",
    "fig_scatter.add_shape(\n",
    "    type=\"line\", line=dict(dash='dash'),\n",
    "    x0=y.min(), y0=y.min(),\n",
    "    x1=y.max(), y1=y.max()\n",
    ")\n",
    "\n",
    "port = 10000\n",
    "# app_scatter = test_add(fig=fig_scatter,\n",
    "#                         smiles_col=['smiles','test'],\n",
    "#                         )\n",
    "app_scatter = molplotly.add_molecules(fig=fig_scatter,\n",
    "                                      df=df_esol,\n",
    "                                      smiles_col=['smiles','test'],\n",
    "                                      title_col='Compound ID',\n",
    "                                      port=port\n",
    "                                      )\n",
    "\n",
    "\n",
    "# change the arguments here to run the dash app on an external server and/or change the size of the app!\n",
    "app_scatter.run_server(mode='inline', port=port, height=1000)"
   ]
  }
 ],
 "metadata": {
  "interpreter": {
   "hash": "4a7e8b3f2f045654a081d27e44f6dfaabc933b24cfce3adb7145add9056666ba"
  },
  "kernelspec": {
   "display_name": "Python 3.7.11 64-bit ('work': conda)",
   "language": "python",
   "name": "python3"
  },
  "language_info": {
   "codemirror_mode": {
    "name": "ipython",
    "version": 3
   },
   "file_extension": ".py",
   "mimetype": "text/x-python",
   "name": "python",
   "nbconvert_exporter": "python",
   "pygments_lexer": "ipython3",
   "version": "3.10.0"
  },
  "orig_nbformat": 4
 },
 "nbformat": 4,
 "nbformat_minor": 2
}
